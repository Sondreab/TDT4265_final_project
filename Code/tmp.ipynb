{
 "cells": [
  {
   "cell_type": "code",
   "execution_count": 13,
   "metadata": {},
   "outputs": [],
   "source": [
    "import pandas as pd\n",
    "import os\n",
    "\n",
    "def fix_path_names():\n",
    "    \"\"\"Run when in /Code folder. Fixes only file if all paths are messed up. \"\"\"\n",
    "    path = os.getcwd().split(\"/\")[:-1] + [\"driving_log.csv\"]\n",
    "    path_str = \"/\".join(path) \n",
    "    print(path_str)\n",
    "    data = pd.read_csv(path_str, header=None) \n",
    "    front = [\"/\".join(x.split(\"\\\\\")[-2:]) for x in data[0]]\n",
    "    left = [\"/\".join(x.split(\"\\\\\")[-2:]) for x in data[1]]\n",
    "    right = [\"/\".join(x.split(\"\\\\\")[-2:]) for x in data[2]]\n",
    "    data[0] = front\n",
    "    data[1] = left\n",
    "    data[2] = right\n",
    "    data.to_csv(path_str, index=False, header=False)\n",
    "fix_path_names()\n"
   ]
  },
  {
   "cell_type": "code",
   "execution_count": null,
   "metadata": {},
   "outputs": [],
   "source": []
  }
 ],
 "metadata": {
  "kernelspec": {
   "display_name": "Python 3",
   "language": "python",
   "name": "python3"
  },
  "language_info": {
   "codemirror_mode": {
    "name": "ipython",
    "version": 3
   },
   "file_extension": ".py",
   "mimetype": "text/x-python",
   "name": "python",
   "nbconvert_exporter": "python",
   "pygments_lexer": "ipython3",
   "version": "3.7.3"
  }
 },
 "nbformat": 4,
 "nbformat_minor": 2
}
