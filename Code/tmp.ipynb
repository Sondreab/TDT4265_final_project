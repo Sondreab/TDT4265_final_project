{
 "cells": [
  {
   "cell_type": "code",
   "execution_count": 13,
   "metadata": {},
   "outputs": [],
   "source": [
    "import pandas as pd\n",
    "import os\n",
    "\n",
    "def fix_path_names():\n",
    "    \"\"\"Run when in /Code folder \"\"\"\n",
    "    path = os.getcwd().split(\"/\")[:-1] + [\"driving_log.csv\"]\n",
    "    path_str = \"/\".join(path) \n",
    "    pd = pd.read_csv(path_str, header=None) \n",
    "    front = [\"/\".join(x.split(\"\\\\\")[-2:]) for x in pd[0]]\n",
    "    left = [\"/\".join(x.split(\"\\\\\")[-2:]) for x in pd[1]]\n",
    "    right = [\"/\".join(x.split(\"\\\\\")[-2:]) for x in pd[2]]\n",
    "    pd[0] = front\n",
    "    pd[1] = left\n",
    "    pd[2] = right\n",
    "    pd.DataFrame.to_csv(\"test.csv\")"
   ]
  },
  {
   "cell_type": "code",
   "execution_count": null,
   "metadata": {},
   "outputs": [],
   "source": []
  }
 ],
 "metadata": {
  "kernelspec": {
   "display_name": "Python 3",
   "language": "python",
   "name": "python3"
  },
  "language_info": {
   "codemirror_mode": {
    "name": "ipython",
    "version": 3
   },
   "file_extension": ".py",
   "mimetype": "text/x-python",
   "name": "python",
   "nbconvert_exporter": "python",
   "pygments_lexer": "ipython3",
   "version": "3.6.7"
  }
 },
 "nbformat": 4,
 "nbformat_minor": 2
}
